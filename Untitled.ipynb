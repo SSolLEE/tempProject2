{
 "cells": [
  {
   "cell_type": "code",
   "execution_count": 2,
   "id": "4cbe1a81-5a9c-4a1d-a066-a60c4f60b596",
   "metadata": {},
   "outputs": [
    {
     "name": "stdout",
     "output_type": "stream",
     "text": [
      "1.25.1\n",
      "2.0.3\n",
      "0.12.2\n",
      "5.15.0\n",
      "4.2.3\n",
      "1.3.0\n",
      "3.7.2\n",
      "1.25.0\n"
     ]
    }
   ],
   "source": [
    "import numpy as np\n",
    "import pandas as pd\n",
    "import seaborn as sns\n",
    "import plotly\n",
    "import django\n",
    "import sklearn\n",
    "import matplotlib\n",
    "import streamlit as st\n",
    "\n",
    "print(np.__version__)\n",
    "print(pd.__version__)\n",
    "print(sns.__version__)\n",
    "print(plotly.__version__)\n",
    "print(django.__version__)\n",
    "print(sklearn.__version__)\n",
    "print(matplotlib.__version__)\n",
    "print(st.__version__)"
   ]
  }
 ],
 "metadata": {
  "kernelspec": {
   "display_name": "Python 3 (ipykernel)",
   "language": "python",
   "name": "python3"
  },
  "language_info": {
   "codemirror_mode": {
    "name": "ipython",
    "version": 3
   },
   "file_extension": ".py",
   "mimetype": "text/x-python",
   "name": "python",
   "nbconvert_exporter": "python",
   "pygments_lexer": "ipython3",
   "version": "3.9.13"
  }
 },
 "nbformat": 4,
 "nbformat_minor": 5
}
